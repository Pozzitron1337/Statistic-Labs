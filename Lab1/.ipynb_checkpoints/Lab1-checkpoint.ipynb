{
 "cells": [
  {
   "cell_type": "code",
   "execution_count": 1,
   "metadata": {},
   "outputs": [],
   "source": [
    "import numpy as np"
   ]
  },
  {
   "cell_type": "markdown",
   "metadata": {},
   "source": [
    "Завдання 1.\n",
    "Кожне з наступних трьох завдань виконувати для n=100,n=10000  та n=1_000_000. В усіх трьох випадках дослідити, чи потрапляють математичне сподівання та дисперсія у побудовані довірчі інтервали, а також оцінити, як змінюється довжина інтервалу при збільшенні ."
   ]
  },
  {
   "cell_type": "code",
   "execution_count": 2,
   "metadata": {},
   "outputs": [],
   "source": [
    "def a_n(X):\n",
    "    return np.divide(np.sum(X),len(X));\n",
    "    \n",
    "def sigma_n(X):\n",
    "    a=a_n(X);\n",
    "    return np.divide(np.sum((X-a)**2),len(X));\n"
   ]
  },
  {
   "cell_type": "markdown",
   "metadata": {},
   "source": [
    "A.Побудувати довірчий інтервал для математичного сподівання a у припущенні, що спостерігаються в.в. {X}, які мають нормальний розподіл, але дисперсія \\sigma^2 невідома."
   ]
  },
  {
   "cell_type": "code",
   "execution_count": 3,
   "metadata": {
    "scrolled": false
   },
   "outputs": [
    {
     "name": "stdout",
     "output_type": "stream",
     "text": [
      "\n",
      " n=100:\n",
      "a є (-0.27072207554512884,0.13281223609824178)\n",
      "Математичне сподівання 0.0 потрапило в довірчий інтервал\n",
      "\n",
      " n=10000:\n",
      "a є (-0.027953437675346325,0.01793173543683673)\n",
      "Математичне сподівання 0.0 потрапило в довірчий інтервал\n",
      "\n",
      " n=1000000:\n",
      "a є (-0.0011399328459178943,0.0035267862574505813)\n",
      "Математичне сподівання 0.0 потрапило в довірчий інтервал\n",
      "------------------------\n",
      "\n",
      " n=100:\n",
      "a є (-0.4534077584353534,0.07099807208583117)\n",
      "Математичне сподівання 0.0 потрапило в довірчий інтервал\n",
      "\n",
      " n=10000:\n",
      "a є (-0.039288121136211746,0.012074473218282072)\n",
      "Математичне сподівання 0.0 потрапило в довірчий інтервал\n",
      "\n",
      " n=1000000:\n",
      "a є (-0.0038588820610019987,0.0012963351860213294)\n",
      "Математичне сподівання 0.0 потрапило в довірчий інтервал\n"
     ]
    }
   ],
   "source": [
    "z=2.575\n",
    "expected_value=0.0\n",
    "def task_A(n,z):\n",
    "    print(f'\\n n={n}:')\n",
    "    X=np.random.normal(expected_value, 1.0,size=n)\n",
    "    a=a_n(X)\n",
    "    s=sigma_n(X)\n",
    "    left=a-z*s/np.sqrt(n-1)\n",
    "    right=a+z*s/np.sqrt(n-1)\n",
    "    print(f'a є ({left},{right})')\n",
    "    if(left<=expected_value and expected_value<=right):\n",
    "        print(f\"Математичне сподівання {expected_value} потрапило в довірчий інтервал\")\n",
    "    else:\n",
    "        print(f\"Математичне сподівання {expected_value} не потрапило в довірчий інтервал\")\n",
    "        \n",
    "#z =СТЬЮДЕНТ.ОБР(1-0,012;100-1)\n",
    "task_A(100,2.292387496);\n",
    "#z =СТЬЮДЕНТ.ОБР(1-0,01;10000-1)\n",
    "task_A(10000,2.326720876);\n",
    "#z =СТЬЮДЕНТ.ОБР(1-0,01;1000000-1)\n",
    "task_A(1_000_000,2.326351603);\n",
    "print(\"------------------------\")\n",
    "task_A(100,z);\n",
    "task_A(10000,z);\n",
    "task_A(1_000_000,z)"
   ]
  },
  {
   "cell_type": "markdown",
   "metadata": {},
   "source": [
    "B.Побудувати довірчий інтервал для математичного сподівання a у припущенні, що спостерігаються в.в. {X} , розподіл яких невідомий."
   ]
  },
  {
   "cell_type": "code",
   "execution_count": 4,
   "metadata": {},
   "outputs": [
    {
     "name": "stdout",
     "output_type": "stream",
     "text": [
      "\n",
      " n=100:\n",
      "a є (-0.1447650493478873,0.38400969676391944)\n",
      "Математичне сподівання 0.0 потрапило в довірчий інтервал\n",
      "\n",
      " n=10000:\n",
      "a є (-0.025616264619233834,0.025797445519442495)\n",
      "Математичне сподівання 0.0 потрапило в довірчий інтервал\n",
      "\n",
      " n=1000000:\n",
      "a є (-0.003477719829333648,0.0016828890144198693)\n",
      "Математичне сподівання 0.0 потрапило в довірчий інтервал\n"
     ]
    }
   ],
   "source": [
    "gamma=0.01\n",
    "z=2.575\n",
    "expected_value=0.0\n",
    "def task_B(n):\n",
    "    print(f'\\n n={n}:')\n",
    "    X=np.random.normal(expected_value, 1.0,size=n)\n",
    "    a=a_n(X)\n",
    "    s=sigma_n(X)\n",
    "    left=a-z*s/np.sqrt(n)\n",
    "    right=a+z*s/np.sqrt(n)\n",
    "    print(f'a є ({left},{right})')\n",
    "    if(left<=expected_value and expected_value<=right):\n",
    "        print(f\"Математичне сподівання {expected_value} потрапило в довірчий інтервал\")\n",
    "    else:\n",
    "        print(f\"Математичне сподівання {expected_value} не потрапило в довірчий інтервал\")\n",
    "\n",
    "task_B(100);\n",
    "task_B(10000);\n",
    "task_B(1_000_000);"
   ]
  },
  {
   "cell_type": "markdown",
   "metadata": {},
   "source": [
    "C.Побудувати довірчий інтервал для дисперсії \\sigma^2  у припущенні, що спостерігаються в.в.{X} , які мають нормальний розподіл."
   ]
  },
  {
   "cell_type": "code",
   "execution_count": 5,
   "metadata": {},
   "outputs": [
    {
     "name": "stdout",
     "output_type": "stream",
     "text": [
      "\n",
      " n=100:\n",
      "a є (0.5898533448018005,1.232622001738414)\n",
      "Дисперсія 1 потрапила в довірчий інтервал\n",
      "\n",
      " n=10000:\n",
      "a є (0.9560790811908757,1.0283434016727215)\n",
      "Дисперсія 1 потрапила в довірчий інтервал\n",
      "\n",
      " n=1000000:\n",
      "a є (0.9960623794619691,1.0033457445175353)\n",
      "Дисперсія 1 потрапила в довірчий інтервал\n"
     ]
    }
   ],
   "source": [
    "gamma=0.01\n",
    "z=2.575\n",
    "dispersion=1\n",
    "def task_C(n,z_1,z_2):\n",
    "    print(f'\\n n={n}:')\n",
    "    X=np.random.normal(0.0, dispersion, size=n)\n",
    "    s=sigma_n(X)\n",
    "    left=n*s/z_2\n",
    "    right=n*s/z_1\n",
    "    print(f'a є ({left},{right})')\n",
    "    if(left<=dispersion and dispersion<=right):\n",
    "        print(f\"Дисперсія {dispersion} потрапила в довірчий інтервал\")\n",
    "    else:\n",
    "        print(f\"Дисперсія {dispersion} не потрапила в довірчий інтервал\")\n",
    "\n",
    "#=ХИ2.ОБР(0,01/2; 100-1) and =ХИ2.ОБР(1-0,01/2; 100-1) was calculated by EXCEL\n",
    "task_C(100,66.5101053,138.9867835)\n",
    "\n",
    "#=ХИ2.ОБР(0,01/2; 10000-1) and =ХИ2.ОБР(1-0,01/2; 10000-1) was calculated by EXCEL\n",
    "task_C(10000,9638.498197,10367.01484)\n",
    "\n",
    "#=ХИ2.ОБР(0,01/2; 1000000-1) and =ХИ2.ОБР(1-0,01/2; 1000000-1) was calculated by EXCEL\n",
    "task_C(1_000_000,996359.9858,1003645.527)"
   ]
  },
  {
   "cell_type": "markdown",
   "metadata": {},
   "source": [
    "Завдання 2.обчислення інтегралу чотирьома способами із дослідженням швидкості збіжності. Потрібно обчислити наступний інтеграл:Q=P{\\ksi<\\eta}"
   ]
  },
  {
   "cell_type": "markdown",
   "metadata": {},
   "source": [
    "A.При кожному a=1;0.3;0.1 обчислити точне значення ймовірності Q=Q(a)."
   ]
  },
  {
   "cell_type": "code",
   "execution_count": 6,
   "metadata": {},
   "outputs": [],
   "source": [
    "\n",
    "def genKsi(n,a):\n",
    "    X=np.random.uniform (0, 1, size =n)\n",
    "    return np.divide(np.power(-np.log(X),0.25),a)\n",
    "def genEta(n,a):\n",
    "    X=np.random.uniform (0, 1, size =n)\n",
    "    return np.power((-np.log(X)),0.5)\n",
    "\n",
    "def find_n_star(n_0,sigma2,Q2,):\n",
    "    z=2.575\n",
    "    e=0.01\n",
    "    critical_value=np.divide(z**2 * sigma2,e**2 * Q2)\n",
    "    n=n_0\n",
    "    while n<critical_value:\n",
    "        n+=1\n",
    "    return n"
   ]
  },
  {
   "cell_type": "code",
   "execution_count": 7,
   "metadata": {},
   "outputs": [
    {
     "name": "stdout",
     "output_type": "stream",
     "text": [
      "a=1: Q=2\n",
      "a=0.3: Q=0.0162\n",
      "a=0.1: Q=0.00020000000000000004\n"
     ]
    }
   ],
   "source": [
    "def Q(a):\n",
    "    return 2*(a**4)\n",
    "\n",
    "print(f'a=1: Q={Q(1)}');\n",
    "print(f'a=0.3: Q={Q(0.3)}')\n",
    "print(f'a=0.1: Q={Q(0.1)}')"
   ]
  },
  {
   "cell_type": "markdown",
   "metadata": {},
   "source": [
    "B. Стандартний метод Монте-Карло (метод 1):\n",
    "Q(a)=M1(ksi<eta), тобто q=1(ksi<eta), де 1 – індикаторна функція."
   ]
  },
  {
   "cell_type": "code",
   "execution_count": 8,
   "metadata": {
    "scrolled": false
   },
   "outputs": [
    {
     "name": "stdout",
     "output_type": "stream",
     "text": [
      "\n",
      "n=100000\n",
      "a=1\n",
      "ksi: [1.02723469 0.39917901 1.13160283 1.03027693 0.4509929 ]\n",
      "eta: [0.7657313  0.62051354 1.29634232 1.3554483  0.93876641]\n",
      "Q2: 0.2060070544\n",
      "s2: 0.061442225998796306\n",
      "n_star: 100000\n",
      "ksi new: [0.74892791 1.15419992 1.01899125 0.44112184 0.42552186]\n",
      "eta: [1.16888916 1.22103268 0.82017276 0.01986956 0.79529268]\n",
      "Оцінка Q(1) :0.45448\n",
      "\n",
      "n=100000\n",
      "a=0.3\n",
      "ksi: [2.06265118 2.03725328 1.67340295 3.20760258 2.60002364]\n",
      "eta: [1.05172996 1.50744823 0.69852365 1.14252534 1.55089186]\n",
      "Q2: 0.0002193361\n",
      "s2: 0.00021289173085609116\n",
      "n_star: 100000\n",
      "ksi new: [3.16906484 4.4807896  3.99179436 2.3002392  2.93810867]\n",
      "eta: [0.47419245 0.67777395 0.17422644 1.44036715 0.4444248 ]\n",
      "Оцінка Q(0.3) :0.0155\n",
      "\n",
      "n=100000\n",
      "a=0.1\n",
      "ksi: [ 9.07747391 10.92939898  7.15841692 11.07492883  8.44114238]\n",
      "eta: [1.20612377 0.69148965 1.87347519 0.43952614 1.27010349]\n",
      "Q2: 1.44e-08\n",
      "s2: 1.4396832142563167e-08\n",
      "n_star: 100000\n",
      "ksi new: [10.4139801  10.1658322  12.82327782 12.76470281  5.80782959]\n",
      "eta: [1.50581034 1.34784679 0.08659223 1.08802166 2.1967368 ]\n",
      "Оцінка Q(0.1) :0.00022\n"
     ]
    }
   ],
   "source": [
    "def q(ksi,eta):\n",
    "    return ksi<eta;\n",
    "def Q(n,ksi,eta):\n",
    "    return np.divide(np.sum(q(ksi,eta)),n)\n",
    "def sigma(n,ksi,eta):\n",
    "    return np.divide(np.sum(q(ksi,eta)**2)-n*(Q(n,ksi,eta)**2),n-1)\n",
    "\n",
    "\n",
    "def task_B(n,a):\n",
    "    print(f'\\nn={n}')\n",
    "    print(f'a={a}')\n",
    "    ksi=genKsi(n,a)\n",
    "    print(f'ksi: {ksi[0:5]}')\n",
    "    eta=genEta(n,a);\n",
    "    print(f'eta: {eta[0:5]}')\n",
    "    Q2=Q(n,ksi,eta)**2;\n",
    "    print(f'Q2: {Q2}')\n",
    "    s2=sigma(n,ksi,eta)**2;\n",
    "    print(f's2: {s2}')\n",
    "    n_star=find_n_star(n,s2,Q2)\n",
    "    print(f'n_star: {n_star}')\n",
    "    ksi=genKsi(n_star,a)\n",
    "    print(f'ksi new: {ksi[0:5]}')\n",
    "    eta=genEta(n_star,a)\n",
    "    print(f'eta: {eta[0:5]}')\n",
    "    Q_final=Q(n_star,ksi,eta);\n",
    "    print(f\"Оцінка Q({a}) :{Q_final}\");\n",
    "\n",
    "task_B(100000,1)\n",
    "task_B(100000,0.3)\n",
    "task_B(100000,0.1)"
   ]
  },
  {
   "cell_type": "markdown",
   "metadata": {},
   "source": [
    "C.Метод 2: Q(a)=M[1-G(ksi)], тобто q=1-G(ksi)=e^{-ksi^2} "
   ]
  },
  {
   "cell_type": "code",
   "execution_count": 9,
   "metadata": {},
   "outputs": [
    {
     "name": "stdout",
     "output_type": "stream",
     "text": [
      "\n",
      "n=100000\n",
      "a=1\n",
      "ksi: [0.64833696 1.16971328 1.31446173 1.28045389 0.77202625]\n",
      "Q2: 0.20595160373950666\n",
      "s2: 0.0012797655963090696\n",
      "n_star: 100000\n",
      "ksi new: [1.09755469 1.0527096  0.86151953 1.13477393 1.46260725]\n",
      "Оцінка Q(1) :0.4540936411228535\n",
      "\n",
      "n=100000\n",
      "a=0.3\n",
      "ksi: [3.57734458 2.64328006 2.76859715 2.82812602 2.54040706]\n",
      "Q2: 0.00025002523545794483\n",
      "s2: 1.5970357086584478e-05\n",
      "n_star: 100000\n",
      "ksi new: [2.11234692 3.53504118 2.45465474 2.09535787 3.75033475]\n",
      "Оцінка Q(0.3) :0.015556880032401247\n",
      "\n",
      "n=100000\n",
      "a=0.1\n",
      "ksi: [10.62788089  9.83767081  6.98730094 10.93271042  9.10647218]\n",
      "Q2: 2.7398790032137603e-08\n",
      "s2: 1.4058313717067195e-09\n",
      "n_star: 100000\n",
      "ksi new: [ 7.97309385 11.67888504  9.83258932  9.19190468  3.68578099]\n",
      "Оцінка Q(0.1) :0.00018809021829094041\n"
     ]
    }
   ],
   "source": [
    "def q(ksi):\n",
    "    return np.power(np.e,-(ksi**2));\n",
    "def Q(n,ksi):\n",
    "    return np.divide(np.sum(q(ksi)),n)\n",
    "def sigma(n,ksi):\n",
    "    return np.divide(np.sum(q(ksi)**2)-n*(Q(n,ksi)**2),n-1)\n",
    "\n",
    "\n",
    "def task_C(n,a):\n",
    "    print(f'\\nn={n}')\n",
    "    print(f'a={a}')\n",
    "    ksi=genKsi(n,a)\n",
    "    print(f'ksi: {ksi[0:5]}')\n",
    "    Q2=Q(n,ksi)**2;\n",
    "    print(f'Q2: {Q2}')\n",
    "    s2=sigma(n,ksi)**2;\n",
    "    print(f's2: {s2}')\n",
    "    n_star=find_n_star(n,s2,Q2)\n",
    "    print(f'n_star: {n_star}')\n",
    "    ksi=genKsi(n_star,a)\n",
    "    print(f'ksi new: {ksi[0:5]}')\n",
    "    Q_final=Q(n_star,ksi);\n",
    "    print(f\"Оцінка Q({a}) :{Q_final}\");\n",
    "\n",
    "task_C(100000,1)\n",
    "task_C(100000,0.3)\n",
    "task_C(100000,0.1)"
   ]
  },
  {
   "cell_type": "markdown",
   "metadata": {},
   "source": [
    "D.Метод 3: Q(a)=MF(eta) , тобто q=1-e^{-(a*eta)^4}"
   ]
  },
  {
   "cell_type": "code",
   "execution_count": 10,
   "metadata": {},
   "outputs": [
    {
     "name": "stdout",
     "output_type": "stream",
     "text": [
      "\n",
      "n=100000\n",
      "a=1\n",
      "ksi: [0.86638911 0.67964146 1.04417417 0.30899834 1.53238581]\n",
      "Q2: 0.20655760229615336\n",
      "s2: 0.019584327416409652\n",
      "n_star: 100000\n",
      "eta new: [1.06430665 1.17100749 1.27047739 0.56773656 0.97670402]\n",
      "Оцінка Q(1) :0.454220704004599\n",
      "\n",
      "n=100000\n",
      "a=0.3\n",
      "ksi: [0.72365215 1.14747434 1.43373017 1.46083039 1.22166461]\n",
      "Q2: 0.0002460224933467276\n",
      "s2: 1.1297770883776006e-06\n",
      "n_star: 100000\n",
      "eta new: [0.71608477 0.311767   0.48168927 0.79888382 1.1278538 ]\n",
      "Оцінка Q(0.3) :0.015299842468507057\n",
      "\n",
      "n=100000\n",
      "a=0.1\n",
      "ksi: [1.31262015 0.28859679 1.08130358 1.8463846  1.36834616]\n",
      "Q2: 4.076869877488774e-08\n",
      "s2: 4.141937832617636e-14\n",
      "n_star: 100000\n",
      "eta new: [1.54243356 1.7604539  0.81874045 0.75974841 0.7830049 ]\n",
      "Оцінка Q(0.1) :0.00019699150310353454\n"
     ]
    }
   ],
   "source": [
    "def q(eta,a):\n",
    "    return 1-np.power(np.e,-((a*eta)**4));\n",
    "def Q(n,eta,a):\n",
    "    return np.divide(np.sum(q(eta,a)),n)\n",
    "def sigma(n,eta,a):\n",
    "    return np.divide(np.sum(q(eta,a)**2)-n*(Q(n,eta,a)**2),n-1)\n",
    "\n",
    "\n",
    "def task_D(n,a):\n",
    "    print(f'\\nn={n}')\n",
    "    print(f'a={a}')\n",
    "    eta=genEta(n,a)\n",
    "    print(f'ksi: {eta[0:5]}')\n",
    "    Q2=Q(n,eta,a)**2;\n",
    "    print(f'Q2: {Q2}')\n",
    "    s2=sigma(n,eta,a)**2;\n",
    "    print(f's2: {s2}')\n",
    "    n_star=find_n_star(n,s2,Q2)\n",
    "    print(f'n_star: {n_star}')\n",
    "    eta=genEta(n_star,a)\n",
    "    print(f'eta new: {eta[0:5]}')\n",
    "    Q_final=Q(n_star,eta,a);\n",
    "    print(f\"Оцінка Q({a}) :{Q_final}\");\n",
    "\n",
    "task_D(100000,1)\n",
    "task_D(100000,0.3)\n",
    "task_D(100000,0.1)"
   ]
  },
  {
   "cell_type": "markdown",
   "metadata": {},
   "source": [
    "E. Метод 4: Q(a)=M[F(B)g(B)/h(B)],де - B невід’ємна в.в. із щільністю h(u).\n",
    "\n",
    "q=(2/B^4)*[1-e^(-(aB)^4)]"
   ]
  },
  {
   "cell_type": "code",
   "execution_count": 11,
   "metadata": {},
   "outputs": [
    {
     "name": "stdout",
     "output_type": "stream",
     "text": [
      "\n",
      "n=100000\n",
      "a=1\n",
      "B: [1.03063547 1.02585886 1.43136391 1.32801549 1.42206109]\n",
      "Q2: 0.20721285925289037\n",
      "s2: 0.03866311337447608\n",
      "n_star: 100000\n",
      "B new: [1.92770405 2.20503083 1.35327393 2.72312419 1.83188377]\n",
      "Оцінка Q(1) :0.45366772066914396\n",
      "\n",
      "n=100000\n",
      "a=0.3\n",
      "B: [1.40452471 1.41736955 1.54923587 2.04132708 0.64104345]\n",
      "Q2: 0.0002394430852990328\n",
      "s2: 4.2015533464772063e-13\n",
      "n_star: 100000\n",
      "B new: [1.51477059 1.59483474 1.31751438 2.3330478  1.86297107]\n",
      "Оцінка Q(0.3) :0.015471687538333345\n",
      "\n",
      "n=100000\n",
      "a=0.1\n",
      "B: [1.59595614 2.15837142 2.02511999 2.39254933 1.06290278]\n",
      "Q2: 3.995214479741643e-08\n",
      "s2: 4.530357449024417e-28\n",
      "n_star: 100000\n",
      "B new: [2.08780438 1.00179359 1.55428697 2.09718979 1.73918531]\n",
      "Оцінка Q(0.1) :0.00019988047160191541\n"
     ]
    }
   ],
   "source": [
    "def genB(n):\n",
    "    w=np.random.uniform (0, 1, size =3*n)\n",
    "    B=[0]*n\n",
    "    for i in range(len(w)):\n",
    "        B[i//3]+=-np.log(w[i])\n",
    "    B=np.array(B)\n",
    "    B=np.sqrt(B)\n",
    "    return B\n",
    "def q(B,a):\n",
    "    return np.divide(2*(1-np.power(np.e,-np.power(a*B,4))),np.power(B,4))\n",
    "def Q(n,B,a):\n",
    "    return np.divide(np.sum(q(B,a)),n)\n",
    "def sigma(n,B,a):\n",
    "    return np.divide(np.sum(q(B,a)**2)-n*(Q(n,B,a)**2),n-1)\n",
    "\n",
    "\n",
    "def task_E(n,a):\n",
    "    print(f'\\nn={n}')\n",
    "    print(f'a={a}')\n",
    "    B=genB(n)\n",
    "    print(f'B: {B[0:5]}')\n",
    "    Q2=Q(n,B,a)**2;\n",
    "    print(f'Q2: {Q2}')\n",
    "    s2=sigma(n,B,a)**2;\n",
    "    print(f's2: {s2}')\n",
    "    n_star=find_n_star(n,s2,Q2)\n",
    "    print(f'n_star: {n_star}')\n",
    "    B=genB(n_star)\n",
    "    print(f'B new: {B[0:5]}')\n",
    "    Q_final=Q(n_star,B,a);\n",
    "    print(f\"Оцінка Q({a}) :{Q_final}\");\n",
    "\n",
    "task_E(100000,1)\n",
    "task_E(100000,0.3)\n",
    "task_E(100000,0.1)"
   ]
  },
  {
   "cell_type": "code",
   "execution_count": null,
   "metadata": {},
   "outputs": [],
   "source": []
  }
 ],
 "metadata": {
  "kernelspec": {
   "display_name": "Python 3",
   "language": "python",
   "name": "python3"
  },
  "language_info": {
   "codemirror_mode": {
    "name": "ipython",
    "version": 3
   },
   "file_extension": ".py",
   "mimetype": "text/x-python",
   "name": "python",
   "nbconvert_exporter": "python",
   "pygments_lexer": "ipython3",
   "version": "3.8.3"
  }
 },
 "nbformat": 4,
 "nbformat_minor": 4
}
