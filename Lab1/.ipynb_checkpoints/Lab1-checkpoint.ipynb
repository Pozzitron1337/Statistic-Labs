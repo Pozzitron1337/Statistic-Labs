{
 "cells": [
  {
   "cell_type": "code",
   "execution_count": 1,
   "metadata": {},
   "outputs": [],
   "source": [
    "import numpy as np"
   ]
  },
  {
   "cell_type": "markdown",
   "metadata": {},
   "source": [
    "Завдання 1.\n",
    "Кожне з наступних трьох завдань виконувати для n=100,n=10000  та n=1_000_000. В усіх трьох випадках дослідити, чи потрапляють математичне сподівання та дисперсія у побудовані довірчі інтервали, а також оцінити, як змінюється довжина інтервалу при збільшенні ."
   ]
  },
  {
   "cell_type": "code",
   "execution_count": 2,
   "metadata": {},
   "outputs": [],
   "source": [
    "def a_n(X):\n",
    "    return np.divide(np.sum(X),len(X));\n",
    "    \n",
    "def sigma_n(X):\n",
    "    a=a_n(X);\n",
    "    return np.divide(np.sum((X-a)**2),len(X));\n"
   ]
  },
  {
   "cell_type": "markdown",
   "metadata": {},
   "source": [
    "A.Побудувати довірчий інтервал для математичного сподівання a у припущенні, що спостерігаються в.в. {X}, які мають нормальний розподіл, але дисперсія \\sigma^2 невідома."
   ]
  },
  {
   "cell_type": "code",
   "execution_count": 3,
   "metadata": {
    "scrolled": false
   },
   "outputs": [
    {
     "name": "stdout",
     "output_type": "stream",
     "text": [
      "\n",
      " n=100:\n",
      "a є (-0.3847385267192448,0.2392284143020104)\n",
      "Математичне сподівання a=0.0 потрапило в довірчий інтервал\n",
      "\n",
      " n=10000:\n",
      "a є (-0.025934994831829587,0.027358354791262127)\n",
      "Математичне сподівання a=0.0 потрапило в довірчий інтервал\n",
      "\n",
      " n=1000000:\n",
      "a є (-0.00339209726757073,0.0017466868811095832)\n",
      "Математичне сподівання a=0.0 потрапило в довірчий інтервал\n"
     ]
    }
   ],
   "source": [
    "z=2.575 # =СТЬЮДЕНТ.ОБР(1-0,012;100-1)\n",
    "expected_value=0.0\n",
    "def task_A(n,z):\n",
    "    print(f'\\n n={n}:')\n",
    "    X=np.random.normal(expected_value, 1.0,size=n)\n",
    "    a=a_n(X)\n",
    "    s=sigma_n(X)\n",
    "    left=a-z*s/np.sqrt(n-1)\n",
    "    right=a+z*s/np.sqrt(n-1)\n",
    "    print(f'a є ({left},{right})')\n",
    "    if(left<=expected_value and expected_value<=right):\n",
    "        print(f\"Математичне сподівання a={expected_value} потрапило в довірчий інтервал\")\n",
    "    else:\n",
    "        print(f\"Математичне сподівання a={expected_value} не потрапило в довірчий інтервал\")\n",
    "        \n",
    "task_A(100,z);\n",
    "task_A(10000,z);\n",
    "task_A(1_000_000,z)"
   ]
  },
  {
   "cell_type": "markdown",
   "metadata": {},
   "source": [
    "B.Побудувати довірчий інтервал для математичного сподівання a у припущенні, що спостерігаються в.в. {X} , розподіл яких невідомий."
   ]
  },
  {
   "cell_type": "code",
   "execution_count": 4,
   "metadata": {},
   "outputs": [
    {
     "name": "stdout",
     "output_type": "stream",
     "text": [
      "\n",
      " n=100:\n",
      "a є (-0.18443705394220566,0.38962369357777527)\n",
      "Математичне сподівання a=0.0 потрапило в довірчий інтервал\n",
      "\n",
      " n=10000:\n",
      "a є (-0.022138796037651974,0.029823747173427097)\n",
      "Математичне сподівання a=0.0 потрапило в довірчий інтервал\n",
      "\n",
      " n=1000000:\n",
      "a є (-0.0025691148862749895,0.0025852085147350314)\n",
      "Математичне сподівання a=0.0 потрапило в довірчий інтервал\n"
     ]
    }
   ],
   "source": [
    "z=2.575 # =НОРМ.СТ.ОБР(1-0,01/2)\n",
    "expected_value=0.0\n",
    "def task_B(n):\n",
    "    print(f'\\n n={n}:')\n",
    "    X=np.random.normal(expected_value, 1.0,size=n)\n",
    "    a=a_n(X)\n",
    "    s=sigma_n(X)\n",
    "    left=a-z*s/np.sqrt(n)\n",
    "    right=a+z*s/np.sqrt(n)\n",
    "    print(f'a є ({left},{right})')\n",
    "    if(left<=expected_value and expected_value<=right):\n",
    "        print(f\"Математичне сподівання a={expected_value} потрапило в довірчий інтервал\")\n",
    "    else:\n",
    "        print(f\"Математичне сподівання a={expected_value} не потрапило в довірчий інтервал\")\n",
    "\n",
    "task_B(100);\n",
    "task_B(10000);\n",
    "task_B(1_000_000);"
   ]
  },
  {
   "cell_type": "markdown",
   "metadata": {},
   "source": [
    "C.Побудувати довірчий інтервал для дисперсії \\sigma^2  у припущенні, що спостерігаються в.в.{X} , які мають нормальний розподіл."
   ]
  },
  {
   "cell_type": "code",
   "execution_count": 5,
   "metadata": {},
   "outputs": [
    {
     "name": "stdout",
     "output_type": "stream",
     "text": [
      "\n",
      " n=100:\n",
      "sigma^2 є (0.7740505315743739,1.6175405701844139)\n",
      "Дисперсія sigma^2=1 потрапила в довірчий інтервал\n",
      "\n",
      " n=10000:\n",
      "sigma^2 є (0.9830448881482244,1.057347393289011)\n",
      "Дисперсія sigma^2=1 потрапила в довірчий інтервал\n",
      "\n",
      " n=1000000:\n",
      "sigma^2 є (0.9965239196394605,1.0038106595495238)\n",
      "Дисперсія sigma^2=1 потрапила в довірчий інтервал\n"
     ]
    }
   ],
   "source": [
    "dispersion=1\n",
    "def task_C(n,z_1,z_2):\n",
    "    print(f'\\n n={n}:')\n",
    "    X=np.random.normal(0.0, dispersion, size=n)\n",
    "    s=sigma_n(X)\n",
    "    left=n*s/z_2\n",
    "    right=n*s/z_1\n",
    "    print(f'sigma^2 є ({left},{right})')\n",
    "    if(left<=dispersion and dispersion<=right):\n",
    "        print(f\"Дисперсія sigma^2={dispersion} потрапила в довірчий інтервал\")\n",
    "    else:\n",
    "        print(f\"Дисперсія sigma^2={dispersion} не потрапила в довірчий інтервал\")\n",
    "\n",
    "#=ХИ2.ОБР(0,01/2; 100-1) and =ХИ2.ОБР(1-0,01/2; 100-1) was calculated by EXCEL\n",
    "task_C(100,66.5101053,138.9867835)\n",
    "\n",
    "#=ХИ2.ОБР(0,01/2; 10000-1) and =ХИ2.ОБР(1-0,01/2; 10000-1) was calculated by EXCEL\n",
    "task_C(10000,9638.498197,10367.01484)\n",
    "\n",
    "#=ХИ2.ОБР(0,01/2; 1000000-1) and =ХИ2.ОБР(1-0,01/2; 1000000-1) was calculated by EXCEL\n",
    "task_C(1_000_000,996359.9858,1003645.527)"
   ]
  },
  {
   "cell_type": "markdown",
   "metadata": {},
   "source": [
    "Завдання 2.обчислення інтегралу чотирьома способами із дослідженням швидкості збіжності. Потрібно обчислити наступний інтеграл:Q=P{\\ksi<\\eta}"
   ]
  },
  {
   "cell_type": "markdown",
   "metadata": {},
   "source": [
    "A.При кожному a=1;0.3;0.1 обчислити точне значення ймовірності Q=Q(a)."
   ]
  },
  {
   "cell_type": "code",
   "execution_count": 6,
   "metadata": {},
   "outputs": [],
   "source": [
    "def genKsi(n,a):\n",
    "    X=np.random.uniform (0, 1, size =n)\n",
    "    return np.divide(np.power(-np.log(X),0.25),a)\n",
    "def genEta(n,a):\n",
    "    X=np.random.uniform (0, 1, size =n)\n",
    "    return np.power((-np.log(X)),0.5)\n",
    "\n",
    "def find_n_star(n_0,sigma2,Q2,):\n",
    "    z=2.575\n",
    "    e=0.01\n",
    "    critical_value=np.divide(z**2 * sigma2,e**2 * Q2)\n",
    "    n=n_0\n",
    "    while n<critical_value:\n",
    "        n+=1\n",
    "    return n"
   ]
  },
  {
   "cell_type": "code",
   "execution_count": 7,
   "metadata": {},
   "outputs": [
    {
     "name": "stdout",
     "output_type": "stream",
     "text": [
      "a=1: Q=2\n",
      "a=0.3: Q=0.0162\n",
      "a=0.1: Q=0.00020000000000000004\n"
     ]
    }
   ],
   "source": [
    "def Q(a):\n",
    "    return 2*(a**4)\n",
    "\n",
    "print(f'a=1: Q={Q(1)}');\n",
    "print(f'a=0.3: Q={Q(0.3)}')\n",
    "print(f'a=0.1: Q={Q(0.1)}')"
   ]
  },
  {
   "cell_type": "markdown",
   "metadata": {},
   "source": [
    "B. Стандартний метод Монте-Карло (метод 1):\n",
    "Q(a)=M1(ksi<eta), тобто q=1(ksi<eta), де 1 – індикаторна функція."
   ]
  },
  {
   "cell_type": "code",
   "execution_count": 8,
   "metadata": {
    "scrolled": false
   },
   "outputs": [
    {
     "name": "stdout",
     "output_type": "stream",
     "text": [
      "\n",
      "n=1000\n",
      "a=1\n",
      "ksi: [0.89043669 0.76799906 1.02070564 0.57535505 0.74924994]\n",
      "eta: [0.27306671 0.6648599  0.73754864 0.40440267 0.11994945]\n",
      "Q2: 0.198916\n",
      "s2: 0.061172787458128805\n",
      "n_star: 20392\n",
      "ksi new: [0.86683397 0.82422077 0.59041525 0.76979642 1.05287777]\n",
      "eta: [0.20974009 0.82397017 0.95755528 0.58190925 1.04080777]\n",
      "Оцінка Q(1) :0.45292271479011376\n",
      "\n",
      "n=1000\n",
      "a=0.3\n",
      "ksi: [2.39210032 3.60269925 3.55210744 2.3870048  2.52615772]\n",
      "eta: [0.70893596 0.72862424 1.3170173  0.3595585  1.22960295]\n",
      "Q2: 0.000225\n",
      "s2: 0.00021873788202617033\n",
      "n_star: 64461\n",
      "ksi new: [3.91727401 3.78579391 3.83914328 2.60850393 3.42567889]\n",
      "eta: [1.74255623 0.91555723 1.00390462 0.75351511 0.29365015]\n",
      "Оцінка Q(0.3) :0.015001318626766572\n",
      "\n",
      "n=100000\n",
      "a=0.1\n",
      "ksi: [ 8.57405699  6.5617486  10.47162307  3.94826319 11.60040498]\n",
      "eta: [1.27905808 0.86221398 1.49438581 1.4965107  1.7390385 ]\n",
      "Q2: 2.5600000000000004e-08\n",
      "s2: 2.5592320499210747e-08\n",
      "n_star: 100000\n",
      "ksi new: [11.25719328  5.42382063  6.90969154 11.58709017 11.89125404]\n",
      "eta: [1.32015204 0.39896046 0.20008033 0.99408636 0.8153453 ]\n",
      "Оцінка Q(0.1) :0.00017\n"
     ]
    }
   ],
   "source": [
    "def q(ksi,eta):\n",
    "    return ksi<eta;\n",
    "def Q(n,ksi,eta):\n",
    "    return np.divide(np.sum(q(ksi,eta)),n)\n",
    "def sigma(n,ksi,eta):\n",
    "    return np.divide(np.sum(q(ksi,eta)**2)-n*(Q(n,ksi,eta)**2),n-1)\n",
    "\n",
    "\n",
    "def task_B(n,a):\n",
    "    print(f'\\nn={n}')\n",
    "    print(f'a={a}')\n",
    "    ksi=genKsi(n,a)\n",
    "    print(f'ksi: {ksi[0:5]}')\n",
    "    eta=genEta(n,a);\n",
    "    print(f'eta: {eta[0:5]}')\n",
    "    Q2=Q(n,ksi,eta)**2;\n",
    "    print(f'Q2: {Q2}')\n",
    "    s2=sigma(n,ksi,eta)**2;\n",
    "    print(f's2: {s2}')\n",
    "    n_star=find_n_star(n,s2,Q2)\n",
    "    print(f'n_star: {n_star}')\n",
    "    ksi=genKsi(n_star,a)\n",
    "    print(f'ksi new: {ksi[0:5]}')\n",
    "    eta=genEta(n_star,a)\n",
    "    print(f'eta: {eta[0:5]}')\n",
    "    Q_final=Q(n_star,ksi,eta);\n",
    "    print(f\"Оцінка Q({a}) :{Q_final}\");\n",
    "\n",
    "task_B(1000,1)\n",
    "task_B(1000,0.3)\n",
    "task_B(100000,0.1)"
   ]
  },
  {
   "cell_type": "markdown",
   "metadata": {},
   "source": [
    "C.Метод 2: Q(a)=M[1-G(ksi)], тобто q=1-G(ksi)=e^{-ksi^2} "
   ]
  },
  {
   "cell_type": "code",
   "execution_count": 9,
   "metadata": {},
   "outputs": [
    {
     "name": "stdout",
     "output_type": "stream",
     "text": [
      "\n",
      "n=1000\n",
      "a=1\n",
      "ksi: [1.10653334 0.51428419 0.65706194 0.91918246 0.78747424]\n",
      "Q2: 0.1962817665958822\n",
      "s2: 0.00128122446606292\n",
      "n_star: 1000\n",
      "ksi new: [1.07484994 0.73729929 0.87489352 0.80549868 0.93692701]\n",
      "Оцінка Q(1) :0.450955507731684\n",
      "\n",
      "n=1000\n",
      "a=0.3\n",
      "ksi: [2.21011484 3.69985329 3.99875676 2.13613502 4.03976345]\n",
      "Q2: 0.00028954308955434497\n",
      "s2: 1.5287043782697683e-05\n",
      "n_star: 3501\n",
      "ksi new: [3.34670692 4.48572578 2.60618243 2.71326516 3.11968693]\n",
      "Оцінка Q(0.3) :0.014400780898608917\n",
      "\n",
      "n=100000\n",
      "a=0.1\n",
      "ksi: [9.8823302  6.66701968 8.63415871 8.80833635 8.99574355]\n",
      "Q2: 4.4378768670994985e-08\n",
      "s2: 3.5187447706438444e-09\n",
      "n_star: 100000\n",
      "ksi new: [11.32819438  4.76391878  9.34107135  6.44442506  8.00599687]\n",
      "Оцінка Q(0.1) :0.00018411210060924454\n"
     ]
    }
   ],
   "source": [
    "def q(ksi):\n",
    "    return np.power(np.e,-(ksi**2));\n",
    "def Q(n,ksi):\n",
    "    return np.divide(np.sum(q(ksi)),n)\n",
    "def sigma(n,ksi):\n",
    "    return np.divide(np.sum(q(ksi)**2)-n*(Q(n,ksi)**2),n-1)\n",
    "\n",
    "\n",
    "def task_C(n,a):\n",
    "    print(f'\\nn={n}')\n",
    "    print(f'a={a}')\n",
    "    ksi=genKsi(n,a)\n",
    "    print(f'ksi: {ksi[0:5]}')\n",
    "    Q2=Q(n,ksi)**2;\n",
    "    print(f'Q2: {Q2}')\n",
    "    s2=sigma(n,ksi)**2;\n",
    "    print(f's2: {s2}')\n",
    "    n_star=find_n_star(n,s2,Q2)\n",
    "    print(f'n_star: {n_star}')\n",
    "    ksi=genKsi(n_star,a)\n",
    "    print(f'ksi new: {ksi[0:5]}')\n",
    "    Q_final=Q(n_star,ksi);\n",
    "    print(f\"Оцінка Q({a}) :{Q_final}\");\n",
    "\n",
    "task_C(1000,1)\n",
    "task_C(1000,0.3)\n",
    "task_C(100000,0.1)"
   ]
  },
  {
   "cell_type": "markdown",
   "metadata": {},
   "source": [
    "D.Метод 3: Q(a)=MF(eta) , тобто q=1-e^{-(a*eta)^4}"
   ]
  },
  {
   "cell_type": "code",
   "execution_count": 10,
   "metadata": {
    "scrolled": false
   },
   "outputs": [
    {
     "name": "stdout",
     "output_type": "stream",
     "text": [
      "\n",
      "n=1000\n",
      "a=1\n",
      "ksi: [0.87928993 0.77436306 0.27581924 0.29395961 0.36656614]\n",
      "Q2: 0.21455862161282205\n",
      "s2: 0.01944281233322383\n",
      "n_star: 6009\n",
      "eta new: [0.295384   0.23884482 0.19658204 0.91655164 0.70855401]\n",
      "Оцінка Q(1) :0.4570277779257809\n",
      "\n",
      "n=1000\n",
      "a=0.3\n",
      "ksi: [1.06454505 0.74742645 1.00700176 0.99989793 1.48807957]\n",
      "Q2: 0.00022437283659627324\n",
      "s2: 9.905888358016467e-07\n",
      "n_star: 1000\n",
      "eta new: [0.80821219 1.25896776 1.97713717 1.09654385 1.34101252]\n",
      "Оцінка Q(0.3) :0.014706090302007837\n",
      "\n",
      "n=100000\n",
      "a=0.1\n",
      "ksi: [0.64398766 0.51797714 0.53920957 1.04571036 1.57334176]\n",
      "Q2: 3.972858550170259e-08\n",
      "s2: 3.8701048033410944e-14\n",
      "n_star: 100000\n",
      "eta new: [1.2283298  1.10473041 1.66967391 1.39317837 0.50059137]\n",
      "Оцінка Q(0.1) :0.0001977719720676189\n"
     ]
    }
   ],
   "source": [
    "def q(eta,a):\n",
    "    return 1-np.power(np.e,-((a*eta)**4));\n",
    "def Q(n,eta,a):\n",
    "    return np.divide(np.sum(q(eta,a)),n)\n",
    "def sigma(n,eta,a):\n",
    "    return np.divide(np.sum(q(eta,a)**2)-n*(Q(n,eta,a)**2),n-1)\n",
    "\n",
    "\n",
    "def task_D(n,a):\n",
    "    print(f'\\nn={n}')\n",
    "    print(f'a={a}')\n",
    "    eta=genEta(n,a)\n",
    "    print(f'ksi: {eta[0:5]}')\n",
    "    Q2=Q(n,eta,a)**2;\n",
    "    print(f'Q2: {Q2}')\n",
    "    s2=sigma(n,eta,a)**2;\n",
    "    print(f's2: {s2}')\n",
    "    n_star=find_n_star(n,s2,Q2)\n",
    "    print(f'n_star: {n_star}')\n",
    "    eta=genEta(n_star,a)\n",
    "    print(f'eta new: {eta[0:5]}')\n",
    "    Q_final=Q(n_star,eta,a);\n",
    "    print(f\"Оцінка Q({a}) :{Q_final}\");\n",
    "\n",
    "task_D(1000,1)\n",
    "task_D(1000,0.3)\n",
    "task_D(100000,0.1)"
   ]
  },
  {
   "cell_type": "markdown",
   "metadata": {},
   "source": [
    "E. Метод 4: Q(a)=M[F(B)g(B)/h(B)],де - B невід’ємна в.в. із щільністю h(u).\n",
    "\n",
    "q=(2/B^4)*[1-e^(-(aB)^4)]"
   ]
  },
  {
   "cell_type": "code",
   "execution_count": 11,
   "metadata": {},
   "outputs": [
    {
     "name": "stdout",
     "output_type": "stream",
     "text": [
      "\n",
      "n=1000\n",
      "a=1\n",
      "B: [1.73312492 3.06464893 1.71700051 1.79804054 1.08159278]\n",
      "Q2: 0.19284692430855782\n",
      "s2: 0.03563790550024481\n",
      "n_star: 12254\n",
      "B new: [1.82612925 1.46670404 1.58651162 1.57978517 1.9934467 ]\n",
      "Оцінка Q(1) :0.45177746238363126\n",
      "\n",
      "n=1000\n",
      "a=0.3\n",
      "B: [1.00898458 1.33420749 1.98980022 1.93816326 1.16636322]\n",
      "Q2: 0.00023911021431980334\n",
      "s2: 5.899739731027161e-13\n",
      "n_star: 1000\n",
      "B new: [1.88716392 1.59732544 1.1870235  1.01596799 1.28752964]\n",
      "Оцінка Q(0.3) :0.015491737711767388\n",
      "\n",
      "n=100000\n",
      "a=0.1\n",
      "B: [1.29467214 0.81586108 1.93857497 1.27818327 1.07481372]\n",
      "Q2: 3.9952404199355056e-08\n",
      "s2: 4.438165132793574e-28\n",
      "n_star: 100000\n",
      "B new: [1.31503836 1.15632921 1.41328013 1.65229349 1.75022295]\n",
      "Оцінка Q(0.1) :0.00019987956022455143\n"
     ]
    }
   ],
   "source": [
    "def genB(n):\n",
    "    w=np.random.uniform (0, 1, size =3*n)\n",
    "    B=[0]*n\n",
    "    for i in range(len(w)):\n",
    "        B[i//3]+=-np.log(w[i])\n",
    "    B=np.array(B)\n",
    "    B=np.sqrt(B)\n",
    "    return B\n",
    "def q(B,a):\n",
    "    return np.divide(2*(1-np.power(np.e,-np.power(a*B,4))),np.power(B,4))\n",
    "def Q(n,B,a):\n",
    "    return np.divide(np.sum(q(B,a)),n)\n",
    "def sigma(n,B,a):\n",
    "    return np.divide(np.sum(q(B,a)**2)-n*(Q(n,B,a)**2),n-1)\n",
    "\n",
    "\n",
    "def task_E(n,a):\n",
    "    print(f'\\nn={n}')\n",
    "    print(f'a={a}')\n",
    "    B=genB(n)\n",
    "    print(f'B: {B[0:5]}')\n",
    "    Q2=Q(n,B,a)**2;\n",
    "    print(f'Q2: {Q2}')\n",
    "    s2=sigma(n,B,a)**2;\n",
    "    print(f's2: {s2}')\n",
    "    n_star=find_n_star(n,s2,Q2)\n",
    "    print(f'n_star: {n_star}')\n",
    "    B=genB(n_star)\n",
    "    print(f'B new: {B[0:5]}')\n",
    "    Q_final=Q(n_star,B,a);\n",
    "    print(f\"Оцінка Q({a}) :{Q_final}\");\n",
    "\n",
    "task_E(1000,1)\n",
    "task_E(1000,0.3)\n",
    "task_E(100000,0.1)"
   ]
  },
  {
   "cell_type": "code",
   "execution_count": null,
   "metadata": {},
   "outputs": [],
   "source": []
  }
 ],
 "metadata": {
  "kernelspec": {
   "display_name": "Python 3",
   "language": "python",
   "name": "python3"
  },
  "language_info": {
   "codemirror_mode": {
    "name": "ipython",
    "version": 3
   },
   "file_extension": ".py",
   "mimetype": "text/x-python",
   "name": "python",
   "nbconvert_exporter": "python",
   "pygments_lexer": "ipython3",
   "version": "3.8.3"
  }
 },
 "nbformat": 4,
 "nbformat_minor": 4
}
