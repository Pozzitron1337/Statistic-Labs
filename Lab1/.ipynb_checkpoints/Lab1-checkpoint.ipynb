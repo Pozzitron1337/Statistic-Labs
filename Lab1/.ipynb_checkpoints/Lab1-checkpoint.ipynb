{
 "cells": [
  {
   "cell_type": "code",
   "execution_count": 1,
   "metadata": {},
   "outputs": [],
   "source": [
    "import os\n",
    "import numpy as np"
   ]
  },
  {
   "cell_type": "markdown",
   "metadata": {},
   "source": [
    "Завдання 1.\n",
    "Кожне з наступних трьох завдань виконувати для n=100,n=10000  та n=1_000_000. В усіх трьох випадках дослідити, чи потрапляють математичне сподівання та дисперсія у побудовані довірчі інтервали, а також оцінити, як змінюється довжина інтервалу при збільшенні ."
   ]
  },
  {
   "cell_type": "code",
   "execution_count": 2,
   "metadata": {},
   "outputs": [],
   "source": [
    "def a_n(X):\n",
    "    return np.divide(np.sum(X),len(X));\n",
    "    \n",
    "def sigma_n(X):\n",
    "    a=a_n(X);\n",
    "    return np.divide(np.sum((X-a)**2),len(X));\n"
   ]
  },
  {
   "cell_type": "markdown",
   "metadata": {},
   "source": [
    "A.Побудувати довірчий інтервал для математичного сподівання a у припущенні, що спостерігаються в.в. {X}, які мають нормальний розподіл, але дисперсія \\sigma^2 невідома."
   ]
  },
  {
   "cell_type": "code",
   "execution_count": 3,
   "metadata": {
    "scrolled": false
   },
   "outputs": [
    {
     "name": "stdout",
     "output_type": "stream",
     "text": [
      "\n",
      " n=100:\n",
      "a є (-0.14730622605798133,0.3033186447466605)\n",
      "Математичне сподівання a=0.0 потрапило в довірчий інтервал\n",
      "\n",
      " n=10000:\n",
      "a є (-0.03525032238846469,0.01576498570416814)\n",
      "Математичне сподівання a=0.0 потрапило в довірчий інтервал\n",
      "\n",
      " n=1000000:\n",
      "a є (-0.0021990807706976007,0.0029361478069824293)\n",
      "Математичне сподівання a=0.0 потрапило в довірчий інтервал\n"
     ]
    }
   ],
   "source": [
    "z=2.575 # =СТЬЮДЕНТ.ОБР(1-0,012;100-1)\n",
    "expected_value=0.0\n",
    "def task_A(n,z):\n",
    "    print(f'\\n n={n}:')\n",
    "    X=np.random.normal(expected_value, 1.0,size=n)\n",
    "    a=a_n(X)\n",
    "    s=sigma_n(X)\n",
    "    left=a-z*s/np.sqrt(n-1)\n",
    "    right=a+z*s/np.sqrt(n-1)\n",
    "    print(f'a є ({left},{right})')\n",
    "    if(left<=expected_value and expected_value<=right):\n",
    "        print(f\"Математичне сподівання a={expected_value} потрапило в довірчий інтервал\")\n",
    "    else:\n",
    "        print(f\"Математичне сподівання a={expected_value} не потрапило в довірчий інтервал\")\n",
    "        \n",
    "task_A(100,z);\n",
    "task_A(10000,z);\n",
    "task_A(1_000_000,z)"
   ]
  },
  {
   "cell_type": "markdown",
   "metadata": {},
   "source": [
    "B.Побудувати довірчий інтервал для математичного сподівання a у припущенні, що спостерігаються в.в. {X} , розподіл яких невідомий."
   ]
  },
  {
   "cell_type": "code",
   "execution_count": 4,
   "metadata": {},
   "outputs": [
    {
     "name": "stdout",
     "output_type": "stream",
     "text": [
      "\n",
      " n=100:\n",
      "a є (-0.18490805741606933,0.2534137679287456)\n",
      "Математичне сподівання a=0.0 потрапило в довірчий інтервал\n",
      "\n",
      " n=10000:\n",
      "a є (-0.03752012797423786,0.01342856017835812)\n",
      "Математичне сподівання a=0.0 потрапило в довірчий інтервал\n",
      "\n",
      " n=1000000:\n",
      "a є (-0.0025839167628544956,0.0025736987295503747)\n",
      "Математичне сподівання a=0.0 потрапило в довірчий інтервал\n"
     ]
    }
   ],
   "source": [
    "z=2.575 # =НОРМ.СТ.ОБР(1-0,01/2)\n",
    "expected_value=0.0\n",
    "def task_B(n):\n",
    "    print(f'\\n n={n}:')\n",
    "    X=np.random.normal(expected_value, 1.0,size=n)\n",
    "    a=a_n(X)\n",
    "    s=sigma_n(X)\n",
    "    left=a-z*s/np.sqrt(n)\n",
    "    right=a+z*s/np.sqrt(n)\n",
    "    print(f'a є ({left},{right})')\n",
    "    if(left<=expected_value and expected_value<=right):\n",
    "        print(f\"Математичне сподівання a={expected_value} потрапило в довірчий інтервал\")\n",
    "    else:\n",
    "        print(f\"Математичне сподівання a={expected_value} не потрапило в довірчий інтервал\")\n",
    "\n",
    "task_B(100);\n",
    "task_B(10000);\n",
    "task_B(1_000_000);"
   ]
  },
  {
   "cell_type": "markdown",
   "metadata": {},
   "source": [
    "C.Побудувати довірчий інтервал для дисперсії \\sigma^2  у припущенні, що спостерігаються в.в.{X} , які мають нормальний розподіл."
   ]
  },
  {
   "cell_type": "code",
   "execution_count": 5,
   "metadata": {},
   "outputs": [
    {
     "name": "stdout",
     "output_type": "stream",
     "text": [
      "\n",
      " n=100:\n",
      "sigma^2 є (0.683977089400906,1.4293132632211283)\n",
      "Дисперсія sigma^2=1 потрапила в довірчий інтервал\n",
      "\n",
      " n=10000:\n",
      "sigma^2 є (0.9584447677449048,1.0308878963762678)\n",
      "Дисперсія sigma^2=1 потрапила в довірчий інтервал\n",
      "\n",
      " n=1000000:\n",
      "sigma^2 є (0.9952058058907471,1.0024829075454011)\n",
      "Дисперсія sigma^2=1 потрапила в довірчий інтервал\n"
     ]
    }
   ],
   "source": [
    "dispersion=1\n",
    "def task_C(n,z_1,z_2):\n",
    "    print(f'\\n n={n}:')\n",
    "    X=np.random.normal(0.0, dispersion, size=n)\n",
    "    s=sigma_n(X)\n",
    "    left=n*s/z_2\n",
    "    right=n*s/z_1\n",
    "    print(f'sigma^2 є ({left},{right})')\n",
    "    if(left<=dispersion and dispersion<=right):\n",
    "        print(f\"Дисперсія sigma^2={dispersion} потрапила в довірчий інтервал\")\n",
    "    else:\n",
    "        print(f\"Дисперсія sigma^2={dispersion} не потрапила в довірчий інтервал\")\n",
    "\n",
    "#=ХИ2.ОБР(0,01/2; 100-1) and =ХИ2.ОБР(1-0,01/2; 100-1) was calculated by EXCEL\n",
    "task_C(100,66.5101053,138.9867835)\n",
    "\n",
    "#=ХИ2.ОБР(0,01/2; 10000-1) and =ХИ2.ОБР(1-0,01/2; 10000-1) was calculated by EXCEL\n",
    "task_C(10000,9638.498197,10367.01484)\n",
    "\n",
    "#=ХИ2.ОБР(0,01/2; 1000000-1) and =ХИ2.ОБР(1-0,01/2; 1000000-1) was calculated by EXCEL\n",
    "task_C(1_000_000,996359.9858,1003645.527)"
   ]
  },
  {
   "cell_type": "markdown",
   "metadata": {},
   "source": [
    "Завдання 2.обчислення інтегралу чотирьома способами із дослідженням швидкості збіжності. Потрібно обчислити наступний інтеграл:Q=P{\\ksi<\\eta}"
   ]
  },
  {
   "cell_type": "markdown",
   "metadata": {},
   "source": [
    "A.При кожному a=1;0.3;0.1 обчислити точне значення ймовірності Q=Q(a)."
   ]
  },
  {
   "cell_type": "code",
   "execution_count": 6,
   "metadata": {},
   "outputs": [
    {
     "name": "stdout",
     "output_type": "stream",
     "text": [
      "alpha=1:   Q=0.45435863923495345 ,error=1.2752234406244899e-08\n",
      "alpha=0.3  Q=0.015470119571053638 ,error=1.0071701902943858e-08\n",
      "alpha=0.1: Q=0.00019988011983236367 ,error=5.457237658875305e-09\n"
     ]
    }
   ],
   "source": [
    "from scipy.integrate import quad\n",
    "\n",
    "def func(u,a):\n",
    "    return (1-np.exp(-np.power(a*u,4)))*2*u*np.exp(-u*u)\n",
    "\n",
    "\n",
    "I1=quad(func,0,np.inf,args=(1))\n",
    "I2=quad(func,0,np.inf,args=(0.3))\n",
    "I3=quad(func,0,np.inf,args=(0.1))\n",
    "print(f'alpha=1:   Q={I1[0]} ,error={I1[1]}')\n",
    "print(f'alpha=0.3  Q={I2[0]} ,error={I2[1]}')\n",
    "print(f'alpha=0.1: Q={I3[0]} ,error={I3[1]}')"
   ]
  },
  {
   "cell_type": "markdown",
   "metadata": {},
   "source": [
    "B. Стандартний метод Монте-Карло (метод 1):\n",
    "Q(a)=M1(ksi<eta), тобто q=1(ksi<eta), де 1 – індикаторна функція."
   ]
  },
  {
   "cell_type": "code",
   "execution_count": 7,
   "metadata": {
    "scrolled": false
   },
   "outputs": [
    {
     "name": "stdout",
     "output_type": "stream",
     "text": [
      "alpha=1\n",
      "n* = 78755\n",
      "Q = 0.457101\n",
      "Estimate time: 1.33299 seconds\n",
      "\n",
      "\n"
     ]
    }
   ],
   "source": [
    "out=os.popen('./task2.o 1 10000 1.0').read()   \n",
    "print(out)"
   ]
  },
  {
   "cell_type": "code",
   "execution_count": 8,
   "metadata": {},
   "outputs": [
    {
     "name": "stdout",
     "output_type": "stream",
     "text": [
      "alpha=0.3\n",
      "n* = 4.23132e+06\n",
      "Q = 0.0154287\n",
      "Estimate time: 64.1326 seconds\n",
      "\n",
      "\n"
     ]
    }
   ],
   "source": [
    "out=os.popen('./task2.o 1 10000 0.3').read()   \n",
    "print(out)"
   ]
  },
  {
   "cell_type": "code",
   "execution_count": 9,
   "metadata": {},
   "outputs": [
    {
     "name": "stdout",
     "output_type": "stream",
     "text": [
      "alpha=0.1\n",
      "n* = 3.31366e+08\n",
      "Q = 0.00020006\n",
      "Estimate time: 5127.62 seconds\n",
      "\n",
      "\n"
     ]
    }
   ],
   "source": [
    "out=os.popen('./task2.o 1 1000000 0.1').read()   \n",
    "print(out)"
   ]
  },
  {
   "cell_type": "markdown",
   "metadata": {},
   "source": [
    "C.Метод 2: Q(a)=M[1-G(ksi)], тобто q=1-G(ksi)=e^{-ksi^2} "
   ]
  },
  {
   "cell_type": "code",
   "execution_count": 10,
   "metadata": {
    "scrolled": false
   },
   "outputs": [
    {
     "name": "stdout",
     "output_type": "stream",
     "text": [
      "alpha=1\n",
      "n* = 11437\n",
      "Q = 0.453369\n",
      "Estimate time: 0.090965 seconds\n",
      "\n",
      "\n"
     ]
    }
   ],
   "source": [
    "out=os.popen('./task2.o 2 10000 1.0').read()   \n",
    "print(out)"
   ]
  },
  {
   "cell_type": "code",
   "execution_count": 11,
   "metadata": {},
   "outputs": [
    {
     "name": "stdout",
     "output_type": "stream",
     "text": [
      "alpha=0.3\n",
      "n* = 1.03975e+06\n",
      "Q = 0.015603\n",
      "Estimate time: 8.01279 seconds\n",
      "\n",
      "\n"
     ]
    }
   ],
   "source": [
    "out=os.popen('./task2.o 2 10000 0.3').read()   \n",
    "print(out)"
   ]
  },
  {
   "cell_type": "code",
   "execution_count": 12,
   "metadata": {},
   "outputs": [
    {
     "name": "stdout",
     "output_type": "stream",
     "text": [
      "alpha=0.1\n",
      "n* = 8.31701e+07\n",
      "Q = 0.00019972\n",
      "Estimate time: 643.34 seconds\n",
      "\n",
      "\n"
     ]
    }
   ],
   "source": [
    "out=os.popen('./task2.o 2 10000 0.1').read()   \n",
    "print(out)"
   ]
  },
  {
   "cell_type": "markdown",
   "metadata": {},
   "source": [
    "D.Метод 3: Q(a)=MF(eta) , тобто q=1-e^{-(a*eta)^4}"
   ]
  },
  {
   "cell_type": "code",
   "execution_count": 13,
   "metadata": {
    "scrolled": true
   },
   "outputs": [
    {
     "name": "stdout",
     "output_type": "stream",
     "text": [
      "alpha=1\n",
      "n* = 45420\n",
      "Q = 0.453155\n",
      "Estimate time: 0.372866 seconds\n",
      "\n",
      "\n"
     ]
    }
   ],
   "source": [
    "out=os.popen('./task2.o 3 1000 1.0').read()   \n",
    "print(out)"
   ]
  },
  {
   "cell_type": "code",
   "execution_count": 14,
   "metadata": {},
   "outputs": [
    {
     "name": "stdout",
     "output_type": "stream",
     "text": [
      "alpha=0.3\n",
      "n* = 285768\n",
      "Q = 0.0154043\n",
      "Estimate time: 2.21803 seconds\n",
      "\n",
      "\n"
     ]
    }
   ],
   "source": [
    "out=os.popen('./task2.o 3 10000 0.3').read()   \n",
    "print(out)"
   ]
  },
  {
   "cell_type": "code",
   "execution_count": 15,
   "metadata": {},
   "outputs": [
    {
     "name": "stdout",
     "output_type": "stream",
     "text": [
      "alpha=0.1\n",
      "n* = 333285\n",
      "Q = 0.000200077\n",
      "Estimate time: 2.71989 seconds\n",
      "\n",
      "\n"
     ]
    }
   ],
   "source": [
    "out=os.popen('./task2.o 3 10000 0.1').read()   \n",
    "print(out)"
   ]
  },
  {
   "cell_type": "markdown",
   "metadata": {},
   "source": [
    "E. Метод 4: Q(a)=M[F(B)g(B)/h(B)],де - B невід’ємна в.в. із щільністю h(u).\n",
    "\n",
    "q=(2/B^4)*[1-e^(-(aB)^4)]"
   ]
  },
  {
   "cell_type": "code",
   "execution_count": 16,
   "metadata": {
    "scrolled": true
   },
   "outputs": [
    {
     "name": "stdout",
     "output_type": "stream",
     "text": [
      "alpha=1\n",
      "n* = 63135\n",
      "Q = 0.454424\n",
      "Estimate time: 1.45114 seconds\n",
      "\n",
      "\n"
     ]
    }
   ],
   "source": [
    "out=os.popen('./task2.o 4 12 1.0').read()   \n",
    "print(out)"
   ]
  },
  {
   "cell_type": "code",
   "execution_count": 17,
   "metadata": {},
   "outputs": [
    {
     "name": "stdout",
     "output_type": "stream",
     "text": [
      "alpha=0.3\n",
      "n* = 172\n",
      "Q = 0.0154648\n",
      "Estimate time: 0.004859 seconds\n",
      "\n",
      "\n"
     ]
    }
   ],
   "source": [
    "out=os.popen('./task2.o 4 12 0.3').read()   \n",
    "print(out)"
   ]
  },
  {
   "cell_type": "code",
   "execution_count": 18,
   "metadata": {},
   "outputs": [
    {
     "name": "stdout",
     "output_type": "stream",
     "text": [
      "alpha=0.1\n",
      "n* = 12\n",
      "Q = 0.000199931\n",
      "Estimate time: 0.001023 seconds\n",
      "\n",
      "\n"
     ]
    }
   ],
   "source": [
    "out=os.popen('./task2.o 4 12 0.1').read()   \n",
    "print(out)"
   ]
  },
  {
   "cell_type": "code",
   "execution_count": null,
   "metadata": {},
   "outputs": [],
   "source": []
  }
 ],
 "metadata": {
  "kernelspec": {
   "display_name": "Python 3",
   "language": "python",
   "name": "python3"
  },
  "language_info": {
   "codemirror_mode": {
    "name": "ipython",
    "version": 3
   },
   "file_extension": ".py",
   "mimetype": "text/x-python",
   "name": "python",
   "nbconvert_exporter": "python",
   "pygments_lexer": "ipython3",
   "version": "3.8.3"
  }
 },
 "nbformat": 4,
 "nbformat_minor": 4
}
