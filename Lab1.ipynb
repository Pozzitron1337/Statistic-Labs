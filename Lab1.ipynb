{
 "cells": [
  {
   "cell_type": "code",
   "execution_count": 1,
   "metadata": {},
   "outputs": [],
   "source": [
    "import numpy as np"
   ]
  },
  {
   "cell_type": "markdown",
   "metadata": {},
   "source": [
    "Завдання 1.\n",
    "Кожне з наступних трьох завдань виконувати для n=100,n=10000  та n=1_000_000. В усіх трьох випадках дослідити, чи потрапляють математичне сподівання та дисперсія у побудовані довірчі інтервали, а також оцінити, як змінюється довжина інтервалу при збільшенні ."
   ]
  },
  {
   "cell_type": "code",
   "execution_count": 2,
   "metadata": {},
   "outputs": [],
   "source": [
    "gamma=0.01\n",
    "z=2.575"
   ]
  },
  {
   "cell_type": "code",
   "execution_count": 3,
   "metadata": {},
   "outputs": [],
   "source": [
    "def a_n(X):\n",
    "    return np.divide(np.sum(X),len(X));\n",
    "    \n",
    "def sigma_n(X):\n",
    "    a=a_n(X);\n",
    "    return np.divide(np.sum((X-a)**2),len(X));\n"
   ]
  },
  {
   "cell_type": "markdown",
   "metadata": {},
   "source": [
    "A.Побудувати довірчий інтервал для математичного сподівання a у припущенні, що спостерігаються в.в. {X}, які мають нормальний розподіл, але дисперсія \\sigma^2 невідома."
   ]
  },
  {
   "cell_type": "code",
   "execution_count": 4,
   "metadata": {
    "scrolled": true
   },
   "outputs": [
    {
     "name": "stdout",
     "output_type": "stream",
     "text": [
      "\n",
      " n=100:\n",
      "a є (-0.1424059420576665,0.36294596873516577)\n",
      "Математичне сподівання 0.0 потрапило в довірчий інтервал\n",
      "\n",
      " n=10000:\n",
      "a є (-0.023732002652601565,0.0268220768141426)\n",
      "Математичне сподівання 0.0 потрапило в довірчий інтервал\n",
      "\n",
      " n=1000000:\n",
      "a є (-0.0031577502052593715,0.001985769410671971)\n",
      "Математичне сподівання 0.0 потрапило в довірчий інтервал\n"
     ]
    }
   ],
   "source": [
    "expected_value=0.0\n",
    "def task_A(n):\n",
    "    print(f'\\n n={n}:')\n",
    "    X=np.random.normal(expected_value, 1.0,size=n)\n",
    "    a=a_n(X)\n",
    "    s=sigma_n(X)\n",
    "    left=a-z*s/np.sqrt(n-1)\n",
    "    right=a+z*s/np.sqrt(n-1)\n",
    "    print(f'a є ({left},{right})')\n",
    "    if(left<=expected_value and expected_value<=right):\n",
    "        print(f\"Математичне сподівання {expected_value} потрапило в довірчий інтервал\")\n",
    "    else:\n",
    "        print(f\"Математичне сподівання {expected_value} не потрапило в довірчий інтервал\")\n",
    "        \n",
    "task_A(100);\n",
    "task_A(10000);\n",
    "task_A(1_000_000);"
   ]
  },
  {
   "cell_type": "markdown",
   "metadata": {},
   "source": [
    "B.Побудувати довірчий інтервал для математичного сподівання a у припущенні, що спостерігаються в.в. {X} , розподіл яких невідомий."
   ]
  },
  {
   "cell_type": "code",
   "execution_count": 5,
   "metadata": {},
   "outputs": [
    {
     "name": "stdout",
     "output_type": "stream",
     "text": [
      "\n",
      " n=100:\n",
      "a є (-0.2838790030925859,0.256133595018136)\n",
      "Математичне сподівання 0.0 потрапило в довірчий інтервал\n",
      "\n",
      " n=10000:\n",
      "a є (-0.03042729473779821,0.020906948002736816)\n",
      "Математичне сподівання 0.0 потрапило в довірчий інтервал\n",
      "\n",
      " n=1000000:\n",
      "a є (-0.0017048866399748553,0.003455488271105263)\n",
      "Математичне сподівання 0.0 потрапило в довірчий інтервал\n"
     ]
    }
   ],
   "source": [
    "expected_value=0.0\n",
    "def task_B(n):\n",
    "    print(f'\\n n={n}:')\n",
    "    X=np.random.normal(expected_value, 1.0,size=n)\n",
    "    a=a_n(X)\n",
    "    s=sigma_n(X)\n",
    "    left=a-z*s/np.sqrt(n)\n",
    "    right=a+z*s/np.sqrt(n)\n",
    "    print(f'a є ({left},{right})')\n",
    "    if(left<=expected_value and expected_value<=right):\n",
    "        print(f\"Математичне сподівання {expected_value} потрапило в довірчий інтервал\")\n",
    "    else:\n",
    "        print(f\"Математичне сподівання {expected_value} не потрапило в довірчий інтервал\")\n",
    "\n",
    "task_B(100);\n",
    "task_B(10000);\n",
    "task_B(1_000_000);"
   ]
  },
  {
   "cell_type": "markdown",
   "metadata": {},
   "source": [
    "C.Побудувати довірчий інтервал для дисперсії \\sigma^2  у припущенні, що спостерігаються в.в.{X} , які мають нормальний розподіл."
   ]
  },
  {
   "cell_type": "code",
   "execution_count": 6,
   "metadata": {},
   "outputs": [
    {
     "name": "stdout",
     "output_type": "stream",
     "text": [
      "\n",
      " n=100:\n",
      "a є (0.9381546163900133,1.960470397236378)\n",
      "Дисперсія 1 потрапила в довірчий інтервал\n",
      "\n",
      " n=10000:\n",
      "a є (0.9746879260989944,1.04835877827753)\n",
      "Дисперсія 1 потрапила в довірчий інтервал\n",
      "\n",
      " n=1000000:\n",
      "a є (0.9996142722789515,1.0069236093344223)\n",
      "Дисперсія 1 потрапила в довірчий інтервал\n"
     ]
    }
   ],
   "source": [
    "dispersion=1\n",
    "def task_C(n,z_1,z_2):\n",
    "    print(f'\\n n={n}:')\n",
    "    X=np.random.normal(0.0, dispersion, size=n)\n",
    "    s=sigma_n(X)\n",
    "    left=n*s/z_2\n",
    "    right=n*s/z_1\n",
    "    print(f'a є ({left},{right})')\n",
    "    if(left<=dispersion and dispersion<=right):\n",
    "        print(f\"Дисперсія {dispersion} потрапила в довірчий інтервал\")\n",
    "    else:\n",
    "        print(f\"Дисперсія {dispersion} не потрапила в довірчий інтервал\")\n",
    "\n",
    "#=ХИ2.ОБР(0,01/2; 100-1) and =ХИ2.ОБР(1-0,01/2; 100-1) was calculated by EXCEL\n",
    "task_C(100,66.5101053,138.9867835)\n",
    "\n",
    "#=ХИ2.ОБР(0,01/2; 10000-1) and =ХИ2.ОБР(1-0,01/2; 10000-1) was calculated by EXCEL\n",
    "task_C(10000,9638.498197,10367.01484)\n",
    "\n",
    "#=ХИ2.ОБР(0,01/2; 1000000-1) and =ХИ2.ОБР(1-0,01/2; 1000000-1) was calculated by EXCEL\n",
    "task_C(1_000_000,996359.9858,1003645.527)"
   ]
  },
  {
   "cell_type": "markdown",
   "metadata": {},
   "source": [
    "Завдання 2.обчислення інтегралу чотирьома способами із дослідженням швидкості збіжності. Потрібно обчислити наступний інтеграл:Q=P{\\ksi<\\eta}"
   ]
  },
  {
   "cell_type": "markdown",
   "metadata": {},
   "source": [
    "A.При кожному a=1;0.3;0.1 обчислити точне значення ймовірності Q=Q(a)."
   ]
  },
  {
   "cell_type": "code",
   "execution_count": 7,
   "metadata": {},
   "outputs": [],
   "source": [
    "\n",
    "def genKsi(n,a):\n",
    "    X=np.random.uniform (0, 1, size =n)\n",
    "    return np.divide(np.power(-np.log(X),0.25),a)\n",
    "def genEta(n,a):\n",
    "    X=np.random.uniform (0, 1, size =n)\n",
    "    return np.power((-np.log(X)),0.5)\n",
    "\n",
    "def find_n_star(n_0,sigma2,Q2,):\n",
    "    z=2.575\n",
    "    e=0.01\n",
    "    critical_value=np.divide(z**2 * sigma2,e**2 * Q2)\n",
    "    n=n_0\n",
    "    while n<critical_value:\n",
    "        n+=1\n",
    "    return n"
   ]
  },
  {
   "cell_type": "code",
   "execution_count": 8,
   "metadata": {},
   "outputs": [
    {
     "name": "stdout",
     "output_type": "stream",
     "text": [
      "a=1: Q=2\n",
      "a=0.3: Q=0.0162\n",
      "a=0.1: Q=0.00020000000000000004\n"
     ]
    }
   ],
   "source": [
    "def Q(a):\n",
    "    return 2*(a**4)\n",
    "\n",
    "print(f'a=1: Q={Q(1)}');\n",
    "print(f'a=0.3: Q={Q(0.3)}')\n",
    "print(f'a=0.1: Q={Q(0.1)}')"
   ]
  },
  {
   "cell_type": "markdown",
   "metadata": {},
   "source": [
    "B. Стандартний метод Монте-Карло (метод 1):\n",
    "Q(a)=M1(ksi<eta), тобто q=1(ksi<eta), де 1 – індикаторна функція."
   ]
  },
  {
   "cell_type": "code",
   "execution_count": 9,
   "metadata": {
    "scrolled": true
   },
   "outputs": [
    {
     "name": "stdout",
     "output_type": "stream",
     "text": [
      "\n",
      "n=100000\n",
      "a=1\n",
      "ksi: [1.04703714 1.06032757 0.99713882 1.01831446 1.06477919]\n",
      "eta: [0.30339442 0.20344207 0.89041244 1.56857037 0.57474446]\n",
      "Q2: 0.2057348164\n",
      "s2: 0.06142846359684681\n",
      "n_star: 100000\n",
      "ksi new: [1.22925642 0.81763061 1.41972716 1.231053   0.84655442]\n",
      "eta: [0.76209974 0.50397025 0.47965211 0.94088483 0.97300458]\n",
      "Оцінка Q(1) :0.45343\n",
      "\n",
      "n=100000\n",
      "a=0.3\n",
      "ksi: [2.5249653  2.07054419 1.26401434 2.4780282  2.78578057]\n",
      "eta: [1.3762641  0.32275595 0.65414886 0.84061434 0.96703105]\n",
      "Q2: 0.00025792360000000006\n",
      "s2: 0.0002497106127387207\n",
      "n_star: 100000\n",
      "ksi new: [3.6270117  3.51447558 3.49411313 3.45483203 3.18698653]\n",
      "eta: [0.99562477 0.51560125 0.66079675 1.11397995 0.06289182]\n",
      "Оцінка Q(0.3) :0.01561\n",
      "\n",
      "n=100000\n",
      "a=0.1\n",
      "ksi: [ 7.14126516 10.84516878 13.77530311 13.13426925 11.73615785]\n",
      "eta: [2.0630989  1.4510496  1.06810696 0.21433397 1.70137813]\n",
      "Q2: 1.9599999999999997e-08\n",
      "s2: 1.959490428028611e-08\n",
      "n_star: 100000\n",
      "ksi new: [12.71974562  8.83977712 13.96401789  9.27929164 10.54751762]\n",
      "eta: [1.00174339 1.03245732 0.39201801 1.14226647 0.88499997]\n",
      "Оцінка Q(0.1) :0.00017\n"
     ]
    }
   ],
   "source": [
    "def q(ksi,eta):\n",
    "    return ksi<eta;\n",
    "def Q(n,ksi,eta):\n",
    "    return np.divide(np.sum(q(ksi,eta)),n)\n",
    "def sigma(n,ksi,eta):\n",
    "    return np.divide(np.sum(q(ksi,eta)**2)-n*(Q(n,ksi,eta)**2),n-1)\n",
    "\n",
    "\n",
    "def task_B(n,a):\n",
    "    print(f'\\nn={n}')\n",
    "    print(f'a={a}')\n",
    "    ksi=genKsi(n,a)\n",
    "    print(f'ksi: {ksi[0:5]}')\n",
    "    eta=genEta(n,a);\n",
    "    print(f'eta: {eta[0:5]}')\n",
    "    Q2=Q(n,ksi,eta)**2;\n",
    "    print(f'Q2: {Q2}')\n",
    "    s2=sigma(n,ksi,eta)**2;\n",
    "    print(f's2: {s2}')\n",
    "    n_star=find_n_star(n,s2,Q2)\n",
    "    print(f'n_star: {n_star}')\n",
    "    ksi=genKsi(n_star,a)\n",
    "    print(f'ksi new: {ksi[0:5]}')\n",
    "    eta=genEta(n_star,a)\n",
    "    print(f'eta: {eta[0:5]}')\n",
    "    Q_final=Q(n_star,ksi,eta);\n",
    "    print(f\"Оцінка Q({a}) :{Q_final}\");\n",
    "\n",
    "task_B(100000,1)\n",
    "task_B(100000,0.3)\n",
    "task_B(100000,0.1)"
   ]
  },
  {
   "cell_type": "markdown",
   "metadata": {},
   "source": [
    "C.Метод 2: Q(a)=M[1-G(ksi)], тобто q=1-G(ksi)=e^{-ksi^2} "
   ]
  },
  {
   "cell_type": "code",
   "execution_count": 10,
   "metadata": {},
   "outputs": [
    {
     "name": "stdout",
     "output_type": "stream",
     "text": [
      "\n",
      "n=100000\n",
      "a=1\n",
      "ksi: [1.09703719 0.93322147 0.59703781 0.57749814 0.88775272]\n",
      "Q2: 0.20646886187903404\n",
      "s2: 0.0012857823101997718\n",
      "n_star: 100000\n",
      "ksi new: [1.00961479 0.67689155 0.51159493 0.56855448 1.0550841 ]\n",
      "Оцінка Q(1) :0.45476186525532053\n",
      "\n",
      "n=100000\n",
      "a=0.3\n",
      "ksi: [1.04180408 1.58711284 2.12301628 2.54204212 2.41425575]\n",
      "Q2: 0.00023010693537086003\n",
      "s2: 1.30472997294986e-05\n",
      "n_star: 100000\n",
      "ksi new: [2.40678201 2.22861878 3.67274966 3.70709261 3.28300943]\n",
      "Оцінка Q(0.3) :0.015527763391400601\n",
      "\n",
      "n=100000\n",
      "a=0.1\n",
      "ksi: [ 9.77188169  9.97496027 12.54194512 10.27232762  6.782572  ]\n",
      "Q2: 3.921011499653323e-08\n",
      "s2: 3.0658545179698605e-09\n",
      "n_star: 100000\n",
      "ksi new: [ 3.17242409  5.25030113 11.06474044  8.92285625  6.0204875 ]\n",
      "Оцінка Q(0.1) :0.00019846498995961927\n"
     ]
    }
   ],
   "source": [
    "def q(ksi):\n",
    "    return np.power(np.e,-(ksi**2));\n",
    "def Q(n,ksi):\n",
    "    return np.divide(np.sum(q(ksi)),n)\n",
    "def sigma(n,ksi):\n",
    "    return np.divide(np.sum(q(ksi)**2)-n*(Q(n,ksi)**2),n-1)\n",
    "\n",
    "\n",
    "def task_C(n,a):\n",
    "    print(f'\\nn={n}')\n",
    "    print(f'a={a}')\n",
    "    ksi=genKsi(n,a)\n",
    "    print(f'ksi: {ksi[0:5]}')\n",
    "    Q2=Q(n,ksi)**2;\n",
    "    print(f'Q2: {Q2}')\n",
    "    s2=sigma(n,ksi)**2;\n",
    "    print(f's2: {s2}')\n",
    "    n_star=find_n_star(n,s2,Q2)\n",
    "    print(f'n_star: {n_star}')\n",
    "    ksi=genKsi(n_star,a)\n",
    "    print(f'ksi new: {ksi[0:5]}')\n",
    "    Q_final=Q(n_star,ksi);\n",
    "    print(f\"Оцінка Q({a}) :{Q_final}\");\n",
    "\n",
    "task_C(100000,1)\n",
    "task_C(100000,0.3)\n",
    "task_C(100000,0.1)"
   ]
  },
  {
   "cell_type": "markdown",
   "metadata": {},
   "source": [
    "D.Метод 3: Q(a)=MF(eta) , тобто q=1-e^{-(a*eta)^4}"
   ]
  },
  {
   "cell_type": "code",
   "execution_count": 11,
   "metadata": {},
   "outputs": [
    {
     "name": "stdout",
     "output_type": "stream",
     "text": [
      "\n",
      "n=100000\n",
      "a=1\n",
      "ksi: [1.17158089 0.90898793 1.21564495 1.71244302 1.1637536 ]\n",
      "Q2: 0.20581768696976752\n",
      "s2: 0.01970764134908075\n",
      "n_star: 100000\n",
      "eta new: [1.02833905 1.26995956 2.29539682 0.61952632 1.97629747]\n",
      "Оцінка Q(1) :0.45552884437666574\n",
      "\n",
      "n=100000\n",
      "a=0.3\n",
      "ksi: [0.30608526 0.93215235 2.08993339 1.14203896 0.78422176]\n",
      "Q2: 0.00023511953636805308\n",
      "s2: 1.0083691277415982e-06\n",
      "n_star: 100000\n",
      "eta new: [1.36108891 0.66292775 0.93107234 1.10665912 0.84357252]\n",
      "Оцінка Q(0.3) :0.01548973393635069\n",
      "\n",
      "n=100000\n",
      "a=0.1\n",
      "ksi: [0.61830579 1.61511762 0.73361339 0.15048613 0.57286545]\n",
      "Q2: 3.9548061658818164e-08\n",
      "s2: 3.8571243938105263e-14\n",
      "n_star: 100000\n",
      "eta new: [0.75570995 0.47806824 1.45718016 0.73301036 0.48448654]\n",
      "Оцінка Q(0.1) :0.00020217327446354644\n"
     ]
    }
   ],
   "source": [
    "def q(eta,a):\n",
    "    return 1-np.power(np.e,-((a*eta)**4));\n",
    "def Q(n,eta,a):\n",
    "    return np.divide(np.sum(q(eta,a)),n)\n",
    "def sigma(n,eta,a):\n",
    "    return np.divide(np.sum(q(eta,a)**2)-n*(Q(n,eta,a)**2),n-1)\n",
    "\n",
    "\n",
    "def task_D(n,a):\n",
    "    print(f'\\nn={n}')\n",
    "    print(f'a={a}')\n",
    "    eta=genEta(n,a)\n",
    "    print(f'ksi: {eta[0:5]}')\n",
    "    Q2=Q(n,eta,a)**2;\n",
    "    print(f'Q2: {Q2}')\n",
    "    s2=sigma(n,eta,a)**2;\n",
    "    print(f's2: {s2}')\n",
    "    n_star=find_n_star(n,s2,Q2)\n",
    "    print(f'n_star: {n_star}')\n",
    "    eta=genEta(n_star,a)\n",
    "    print(f'eta new: {eta[0:5]}')\n",
    "    Q_final=Q(n_star,eta,a);\n",
    "    print(f\"Оцінка Q({a}) :{Q_final}\");\n",
    "\n",
    "task_D(100000,1)\n",
    "task_D(100000,0.3)\n",
    "task_D(100000,0.1)"
   ]
  },
  {
   "cell_type": "markdown",
   "metadata": {},
   "source": [
    "E. Метод 4: Q(a)=M[F(B)g(B)/h(B)],де - B невід’ємна в.в. із щільністю h(u).\n",
    "\n",
    "q=(2/B^4)*[1-e^(-(aB)^4)]"
   ]
  },
  {
   "cell_type": "code",
   "execution_count": 12,
   "metadata": {},
   "outputs": [
    {
     "name": "stdout",
     "output_type": "stream",
     "text": [
      "\n",
      "n=100000\n",
      "a=1\n",
      "B: [1.71208813 2.69665519 2.12463309 1.83028073 1.07851619]\n",
      "Q2: 0.20554457811384075\n",
      "s2: 0.038480312195031396\n",
      "n_star: 100000\n",
      "B new: [1.36071113 2.23964752 1.80825905 1.76418469 1.36186137]\n",
      "Оцінка Q(1) :0.4569786359762804\n",
      "\n",
      "n=100000\n",
      "a=0.3\n",
      "B: [2.15778127 1.83203084 1.85606077 1.15832476 2.14760592]\n",
      "Q2: 0.00023941606399099024\n",
      "s2: 4.2309921066051454e-13\n",
      "n_star: 100000\n",
      "B new: [1.45750943 2.02680228 1.86928003 1.5685203  1.23624313]\n",
      "Оцінка Q(0.3) :0.015468214803348137\n",
      "\n",
      "n=100000\n",
      "a=0.1\n",
      "B: [1.68661934 1.12054072 0.91137127 1.4504318  1.89431882]\n",
      "Q2: 3.995218453711982e-08\n",
      "s2: 4.4439915518228305e-28\n",
      "n_star: 100000\n",
      "B new: [1.89045951 2.05602081 2.3058769  1.81452679 2.41725207]\n",
      "Оцінка Q(0.1) :0.00019988004916677147\n"
     ]
    }
   ],
   "source": [
    "def genB(n):\n",
    "    w=np.random.uniform (0, 1, size =3*n)\n",
    "    B=[0]*n\n",
    "    for i in range(len(w)):\n",
    "        B[i//3]+=-np.log(w[i])\n",
    "    B=np.array(B)\n",
    "    B=np.sqrt(B)\n",
    "    return B\n",
    "def q(B,a):\n",
    "    return np.divide(2*(1-np.power(np.e,-np.power(a*B,4))),np.power(B,4))\n",
    "def Q(n,B,a):\n",
    "    return np.divide(np.sum(q(B,a)),n)\n",
    "def sigma(n,B,a):\n",
    "    return np.divide(np.sum(q(B,a)**2)-n*(Q(n,B,a)**2),n-1)\n",
    "\n",
    "\n",
    "def task_E(n,a):\n",
    "    print(f'\\nn={n}')\n",
    "    print(f'a={a}')\n",
    "    B=genB(n)\n",
    "    print(f'B: {B[0:5]}')\n",
    "    Q2=Q(n,B,a)**2;\n",
    "    print(f'Q2: {Q2}')\n",
    "    s2=sigma(n,B,a)**2;\n",
    "    print(f's2: {s2}')\n",
    "    n_star=find_n_star(n,s2,Q2)\n",
    "    print(f'n_star: {n_star}')\n",
    "    B=genB(n_star)\n",
    "    print(f'B new: {B[0:5]}')\n",
    "    Q_final=Q(n_star,B,a);\n",
    "    print(f\"Оцінка Q({a}) :{Q_final}\");\n",
    "\n",
    "task_E(100000,1)\n",
    "task_E(100000,0.3)\n",
    "task_E(100000,0.1)"
   ]
  },
  {
   "cell_type": "code",
   "execution_count": null,
   "metadata": {},
   "outputs": [],
   "source": []
  }
 ],
 "metadata": {
  "kernelspec": {
   "display_name": "Python 3",
   "language": "python",
   "name": "python3"
  },
  "language_info": {
   "codemirror_mode": {
    "name": "ipython",
    "version": 3
   },
   "file_extension": ".py",
   "mimetype": "text/x-python",
   "name": "python",
   "nbconvert_exporter": "python",
   "pygments_lexer": "ipython3",
   "version": "3.8.3"
  }
 },
 "nbformat": 4,
 "nbformat_minor": 4
}
