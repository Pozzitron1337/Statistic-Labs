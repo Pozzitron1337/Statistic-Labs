{
 "cells": [
  {
   "cell_type": "code",
   "execution_count": 1,
   "metadata": {},
   "outputs": [],
   "source": [
    "import numpy as np\n",
    "import scipy.stats as st"
   ]
  },
  {
   "cell_type": "markdown",
   "metadata": {},
   "source": [
    "<b>Завдання 1</b>. Перевірка гіпотези однорідності."
   ]
  },
  {
   "cell_type": "markdown",
   "metadata": {},
   "source": [
    "<p><b>A</b>. Критерій пустих блоків. Генеруємо дві незалежні вибірки:</p>\n",
    "<p>X=(x_1,...,x_n) ~ F_{ksi}(u)=1-e^{-u},u>=0;</p>\n",
    "<p>Y=(y_1,...,y_m) ~ F_{eta}=1-e^{1.1*u},u>=0.</p>\n",
    "<p>За допомогою критерію пустих блоків перевірити гіпотезу однорідності при наступних значеннях параметрів:</p>\n",
    "<p>а)n=500,m=1000 ; b)n=5000,m=10000 ; с)n=50000,m=100000 .</p>"
   ]
  },
  {
   "cell_type": "code",
   "execution_count": 40,
   "metadata": {},
   "outputs": [
    {
     "name": "stdout",
     "output_type": "stream",
     "text": [
      "приблизні значення x_sort: [0.00637283 0.0066006  0.00678196]\n",
      "n = 500\n",
      "m = 1000\n",
      "p = 2.0\n",
      "z = 1.6448536269514722\n",
      "criteria = 180.8233126758487\n",
      "Кількість блоків alpha = 160\n",
      "Статистичні дані не суперечать гіпотезі H_0\n",
      "\n",
      "приблизні значення x_sort: [9.18775892e-05 1.55697744e-04 4.40199753e-04]\n",
      "n = 5000\n",
      "m = 10000\n",
      "p = 2.0\n",
      "z = 1.6448536269514722\n",
      "criteria = 1711.433912084415\n",
      "Кількість блоків alpha = 1670\n",
      "Статистичні дані не суперечать гіпотезі H_0\n",
      "\n",
      "приблизні значення x_sort: [5.17835461e-05 5.45803978e-05 5.94105629e-05]\n",
      "n = 50000\n",
      "m = 100000\n",
      "p = 2.0\n",
      "z = 1.6448536269514722\n",
      "criteria = 16808.23312675849\n",
      "Кількість блоків alpha = 16659\n",
      "Статистичні дані не суперечать гіпотезі H_0\n",
      "\n"
     ]
    }
   ],
   "source": [
    "def blank_boxes(x,y):\n",
    "    n=len(x)\n",
    "    m=len(y)\n",
    "    p=m/n\n",
    "    z = st.norm.ppf(1-0.05)\n",
    "    criteria=n/(1+p)+np.sqrt(n)*z*p/((1+p)**(3/2))\n",
    "    x_sorted=np.sort(x)\n",
    "    a=0\n",
    "    if len(y[y<x_sorted[0]]) == 0:\n",
    "        a+=1\n",
    "    for i in range(len(x_sorted)-1):\n",
    "        if len(y[(x_sorted[i]<y) & (y<x_sorted[i+1])]) == 0:\n",
    "            a+=1\n",
    "    if len(y[y>x_sorted[n-1]]) == 0:\n",
    "        a+=1\n",
    "        \n",
    "    print(f'приблизні значення x_sort: {x_sorted[0:3]}')\n",
    "    print(f'n = {n}')\n",
    "    print(f'm = {m}')\n",
    "    print(f'p = {p}')\n",
    "    print(f'z = {z}')\n",
    "    print(f'criteria = {criteria}')\n",
    "    print(f'Кількість блоків alpha = {a}')\n",
    "    if a<criteria:\n",
    "        print(f'Статистичні дані не суперечать гіпотезі H_0\\n')\n",
    "    else: \n",
    "        print(f'Слід прийняти альтернативну гіпотезу H_1\\n')\n",
    "    \n",
    "    \n",
    "def taskA():\n",
    "    l_x=1\n",
    "    l_y=1.1\n",
    "    x=np.random.exponential(scale=1/l_x,size=500)\n",
    "    y=np.random.exponential(scale=1/l_y,size=1000)\n",
    "    blank_boxes(x,y)\n",
    "    x=np.random.exponential(scale=1/l_x,size=5000)\n",
    "    y=np.random.exponential(scale=1/l_y,size=10000)\n",
    "    blank_boxes(x,y)\n",
    "    x=np.random.exponential(scale=1/l_x,size=50000)\n",
    "    y=np.random.exponential(scale=1/l_y,size=100000)\n",
    "    blank_boxes(x,y)\n",
    "taskA()"
   ]
  },
  {
   "cell_type": "markdown",
   "metadata": {},
   "source": [
    "<p><b>В</b>. Критерій X^2. Генеруємо три серії незалежних спостережень:</p>\n",
    "<p>X=(x_1,...,x_n) ~ F_{ksi}(u)=1-e^{-u},u>=0;</p>\n",
    "<p>Y=(y_1,...,y_m) ~ F_{eta}=1-e^{-u},u>=0.</p>\n",
    "<p>Z=(z_1,...,z_k) ~ F_{dzeta}=1-e^{-1.1*u},u>=0</p>\n",
    "<p>За допомогою критерію X^2 перевірити гіпотезу однорідності при наступних значеннях параметрів:</p>\n",
    "<p>а)n=200,m=600,k=400;</p>\n",
    "<p>b)n=2000,m=6000,k=4000;</p>\n",
    "<p>с)n=20000,m=60000,k=40000 .</p>\n",
    "<b>Зауваження.</b> Кількість  проміжків і самі проміжки  обирати самостійно."
   ]
  },
  {
   "cell_type": "code",
   "execution_count": null,
   "metadata": {},
   "outputs": [],
   "source": [
    "\n",
    "def taskB():\n",
    "    "
   ]
  }
 ],
 "metadata": {
  "kernelspec": {
   "display_name": "Python 3",
   "language": "python",
   "name": "python3"
  },
  "language_info": {
   "codemirror_mode": {
    "name": "ipython",
    "version": 3
   },
   "file_extension": ".py",
   "mimetype": "text/x-python",
   "name": "python",
   "nbconvert_exporter": "python",
   "pygments_lexer": "ipython3",
   "version": "3.8.3"
  }
 },
 "nbformat": 4,
 "nbformat_minor": 4
}
